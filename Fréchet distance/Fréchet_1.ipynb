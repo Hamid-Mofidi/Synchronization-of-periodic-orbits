{
  "nbformat": 4,
  "nbformat_minor": 0,
  "metadata": {
    "colab": {
      "provenance": [],
      "authorship_tag": "ABX9TyP49yVKPP+Fo9Ga3XRJ5+mq",
      "include_colab_link": true
    },
    "kernelspec": {
      "name": "python3",
      "display_name": "Python 3"
    },
    "language_info": {
      "name": "python"
    }
  },
  "cells": [
    {
      "cell_type": "markdown",
      "metadata": {
        "id": "view-in-github",
        "colab_type": "text"
      },
      "source": [
        "<a href=\"https://colab.research.google.com/github/Hamid-Mofidi/Synchronization-of-periodic-orbits/blob/main/Fr%C3%A9chet%20distance/Fr%C3%A9chet_1.ipynb\" target=\"_parent\"><img src=\"https://colab.research.google.com/assets/colab-badge.svg\" alt=\"Open In Colab\"/></a>"
      ]
    },
    {
      "cell_type": "markdown",
      "source": [
        "## The Fréchet distance:\n",
        "\n",
        "The Fréchet distance is a measure of similarity between two curves that takes into account the location and ordering of the points along the curves.\n",
        "\n",
        "For example, to calculate the Fréchet distance for y=sin(x) and y=sin(x-pi/6), we can use the following formula:\n",
        "\n",
        "$$d_F(y_1,y_2)=\\max_{x\\in[0,2\\pi]}|y_1(x)-y_2(x)|$$\n",
        "\n",
        "where $y_1(x)=\\sin(x)$ and $y_2(x)=\\sin(x-\\pi/6)$. Substituting these functions into the formula, we get:\n",
        "\n",
        "$$d_F(y_1,y_2)=\\max_{x\\in[0,2\\pi]}|\\sin(x)-\\sin(x-\\pi/6)|$$\n",
        "\n",
        "Using the trigonometric identity $\\sin(a-b)=\\sin(a)\\cos(b)-\\cos(a)\\sin(b)$, we can simplify this expression as:\n",
        "\n",
        "$$d_F(y_1,y_2)=\\max_{x\\in[0,2\\pi]}|\\sin(x)(1-\\sqrt{3}/2)+\\cos(x)(1/2)|$$\n",
        "\n",
        "To find the maximum value of this expression, we can take its derivative with respect to x and set it equal to zero:\n",
        "\n",
        "$$d_F'(y_1,y_2)=\\cos(x)(1-\\sqrt{3}/2)-\\sin(x)(1/2)=0$$\n",
        "\n",
        "Solving for x, we get two solutions:\n",
        "\n",
        "$$x=\\pi/12 \\text{ or } x=13\\pi/12$$\n",
        "\n",
        "Plugging these values into the original expression, we get:\n",
        "\n",
        "$$d_F(y_1,y_2)=|\\sin(\\pi/12)(1-\\sqrt{3}/2)+\\cos(\\pi/12)(1/2)|=|\\sin(13\\pi/12)(1-\\sqrt{3}/2)+\\cos(13\\pi/12)(1/2)|=0.5176380902$$\n",
        "\n",
        "Therefore, the Fréchet distance for y=sin(x) and y=sin(x-pi/6) is 0.5176380902."
      ],
      "metadata": {
        "id": "20I9-fXOBvbI"
      }
    },
    {
      "cell_type": "code",
      "execution_count": 19,
      "metadata": {
        "id": "i6_GPMgP_8a5"
      },
      "outputs": [],
      "source": [
        "import numpy as np\n",
        "\n",
        "# Define the range and number of sample points\n",
        "x_min = 0\n",
        "x_max = 2 * np.pi\n",
        "num_points = 1000\n",
        "\n",
        "# Generate equally spaced sample points\n",
        "X = np.linspace(x_min, x_max, num_points)"
      ]
    },
    {
      "cell_type": "code",
      "source": [
        "# Evaluate y1 = sin(x) and y2 = sin(x - π/6) at each sample point\n",
        "Y1 = np.sin(X)\n",
        "Y2 = np.sin(X - np.pi/6)\n",
        "#print((Y1 - Y2)**2)\n",
        "# The expression `(Y1 - Y2)**2` calculates the squared difference between the corresponding y-values of `Y1` and `Y2`.\n",
        "# This results in an array of squared differences."
      ],
      "metadata": {
        "id": "Nk8DLlfpADsm"
      },
      "execution_count": 20,
      "outputs": []
    },
    {
      "cell_type": "code",
      "source": [
        "# Calculate the Euclidean distance between each pair of points\n",
        "distances = np.sqrt((Y1 - Y2)**2)\n",
        "#print(distances)\n",
        "# The expression `np.sqrt((Y1 - Y2)**2)` takes the square root of each squared difference,\n",
        "# resulting in an array of Euclidean distances between corresponding points."
      ],
      "metadata": {
        "id": "ZbFYDWFwALqP"
      },
      "execution_count": 21,
      "outputs": []
    },
    {
      "cell_type": "code",
      "source": [
        "# Find the maximum distance\n",
        "frechet_distance = np.max(distances)\n",
        "# Taking the `np.max(distances)` finds the maximum value within the `distances` array.\n",
        "# This represents the maximum Euclidean distance between any pair of corresponding points from the two functions.\n",
        "# This maximum distance is the Fréchet distance."
      ],
      "metadata": {
        "id": "2SGr0MzkANAs"
      },
      "execution_count": 22,
      "outputs": []
    },
    {
      "cell_type": "code",
      "source": [
        "print(\"Fréchet Distance:\", frechet_distance)"
      ],
      "metadata": {
        "colab": {
          "base_uri": "https://localhost:8080/"
        },
        "id": "yT__ZDsoAQEe",
        "outputId": "7cae5d84-6a3e-4a70-9730-fce4540bff1f"
      },
      "execution_count": 23,
      "outputs": [
        {
          "output_type": "stream",
          "name": "stdout",
          "text": [
            "Fréchet Distance: 0.5176379302326657\n"
          ]
        }
      ]
    }
  ]
}